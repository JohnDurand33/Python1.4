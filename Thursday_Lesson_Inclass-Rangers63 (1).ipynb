{
 "cells": [
  {
   "cell_type": "markdown",
   "metadata": {},
   "source": [
    "# Object-Oriented-Programming (OOP)"
   ]
  },
  {
   "cell_type": "markdown",
   "metadata": {},
   "source": [
    "## Tasks Today:\n",
    "\n",
    "   \n",
    "\n",
    "1) <b>Creating a Class (Initializing/Declaring)</b> <br>\n",
    "2) <b>Using a Class (Instantiating)</b> <br>\n",
    " &nbsp;&nbsp;&nbsp;&nbsp; a) Creating One Instance <br>\n",
    " &nbsp;&nbsp;&nbsp;&nbsp; b) Creating Multiple Instances <br>\n",
    " &nbsp;&nbsp;&nbsp;&nbsp; c) In-Class Exercise #1 - Create a Class 'Car' and instantiate three different makes of cars <br>\n",
    "3) <b>The \\__init\\__() Method</b> <br>\n",
    " &nbsp;&nbsp;&nbsp;&nbsp; a) The 'self' Attribute <br>\n",
    "4) <b>Class Attributes</b> <br>\n",
    " &nbsp;&nbsp;&nbsp;&nbsp; a) Initializing Attributes <br>\n",
    " &nbsp;&nbsp;&nbsp;&nbsp; b) Setting an Attribute Outside of the \\__init\\__() Method <br>\n",
    " &nbsp;&nbsp;&nbsp;&nbsp; c) Setting Defaults for Attributes <br>\n",
    " &nbsp;&nbsp;&nbsp;&nbsp; d) Accessing Class Attributes <br>\n",
    " &nbsp;&nbsp;&nbsp;&nbsp; e) Changing Class Attributes <br>\n",
    " &nbsp;&nbsp;&nbsp;&nbsp; f) In-Class Exercise #2 - Add a color and wheels attribute to your 'Car' class <br>\n",
    "5) <b>Class Methods</b> <br>\n",
    " &nbsp;&nbsp;&nbsp;&nbsp; a) Creating <br>\n",
    " &nbsp;&nbsp;&nbsp;&nbsp; b) Calling <br>\n",
    " &nbsp;&nbsp;&nbsp;&nbsp; c) Modifying an Attribute's Value Through a Method <br>\n",
    " &nbsp;&nbsp;&nbsp;&nbsp; d) Incrementing an Attribute's Value Through a Method <br>\n",
    " &nbsp;&nbsp;&nbsp;&nbsp; e) In-Class Exercise #3 - Add a method that prints the cars color and wheel number, then call them <br>\n",
    "6) <b>Inheritance</b> <br>\n",
    " &nbsp;&nbsp;&nbsp;&nbsp; a) Syntax for Inheriting from a Parent Class <br>\n",
    " &nbsp;&nbsp;&nbsp;&nbsp; b) The \\__init\\__() Method for a Child Class (super()) <br>\n",
    " &nbsp;&nbsp;&nbsp;&nbsp; c) Defining Attributes and Methods for the Child Class <br>\n",
    " &nbsp;&nbsp;&nbsp;&nbsp; d) Method Overriding <br>\n",
    " &nbsp;&nbsp;&nbsp;&nbsp; e) In-Class Exercise #4 - Create a class 'Ford' that inherits from 'Car' class and initialize it as a Blue Ford Explorer with 4 wheels using the super() method <br>\n",
    "7) <b>Classes as Attributes</b> <br>\n",
    "8) <b>Exercises</b> <br>\n",
    " &nbsp;&nbsp;&nbsp;&nbsp; a) Exercise #1 - Turn the shopping cart program from yesterday into an object-oriented program <br>"
   ]
  },
  {
   "cell_type": "markdown",
   "metadata": {},
   "source": [
    "## Creating a Class (Initializing/Declaring)\n",
    "<p>When creating a class, function, or even a variable you are initializing that object. Initializing and Declaring occur at the same time in Python, whereas in lower level languages you have to declare an object before initializing it. This is the first step in the process of using a class.</p>"
   ]
  },
  {
   "cell_type": "code",
   "execution_count": null,
   "metadata": {},
   "outputs": [],
   "source": [
    "class Car():\n",
    "    wheels = 4\n",
    "    color = 'blue'"
   ]
  },
  {
   "cell_type": "markdown",
   "metadata": {},
   "source": [
    "## Using a Class (Instantiating)\n",
    "<p>The process of creating a class is called <i>Instantiating</i>. Each time you create a variable of that type of class, it is referred to as an <i>Instance</i> of that class. This is the second step in the process of using a class.</p>"
   ]
  },
  {
   "cell_type": "markdown",
   "metadata": {},
   "source": [
    "##### Creating One Instance"
   ]
  },
  {
   "cell_type": "code",
   "execution_count": null,
   "metadata": {},
   "outputs": [],
   "source": [
    "ford = Car()\n",
    "\n",
    "print(ford.color)"
   ]
  },
  {
   "cell_type": "markdown",
   "metadata": {},
   "source": [
    "##### Creating Multiple Instances"
   ]
  },
  {
   "cell_type": "code",
   "execution_count": null,
   "metadata": {},
   "outputs": [],
   "source": [
    "chevrolet = Car()\n",
    "honda = Car()\n",
    "porsche = Car()\n",
    "\n",
    "print((porsche.color))"
   ]
  },
  {
   "cell_type": "markdown",
   "metadata": {},
   "source": [
    "##### In-Class Exercise #1 - Create a Class 'Car' and Instantiate three different makes of cars"
   ]
  },
  {
   "cell_type": "code",
   "execution_count": null,
   "metadata": {},
   "outputs": [],
   "source": [
    "class Car():\n",
    "    doors = 4\n",
    "    color = 'red'\n",
    "    wheels = 4\n",
    "    powertrain = 'hybrid'\n",
    "    cylinders = 8\n",
    "    \n",
    "ferrari = Car()\n",
    "audi = Car()\n",
    "mercedes = Car()\n",
    "\n",
    "print(mercedes.powertrain)"
   ]
  },
  {
   "cell_type": "markdown",
   "metadata": {},
   "source": [
    "## The \\__init\\__() Method <br>\n",
    "<p>This method is used in almost every created class, and called only once upon the creation of the class instance. This method will initialize all variables needed for the object.</p>"
   ]
  },
  {
   "cell_type": "code",
   "execution_count": null,
   "metadata": {},
   "outputs": [],
   "source": [
    "class Car():\n",
    "    engine = '4.7L' #Global within class = any method inside the class can call on this variable ONLY\n",
    "    \n",
    "    def __init__(self, wheels, color='Blue'):\n",
    "        self.wheels = wheels\n",
    "        self.color = color\n",
    "        \n",
    "mazda = Car(4, 'black')\n",
    "subaru = Car(6, 'blue')\n",
    "jeep = Car(4)\n",
    "\n",
    "print(jeep.color)"
   ]
  },
  {
   "cell_type": "markdown",
   "metadata": {},
   "source": [
    "##### The 'self' Attribute <br>\n",
    "<p>This attribute is required to keep track of specific instance's attributes. Without the self attribute, the program would not know how to reference or keep track of an instance's attributes.</p>"
   ]
  },
  {
   "cell_type": "code",
   "execution_count": null,
   "metadata": {},
   "outputs": [],
   "source": [
    "# see above\n",
    "\n",
    "class House():\n",
    "    \n",
    "    def __init__(self, wall, dishes):\n",
    "        self.wall = wall\n",
    "        self.dishes = dishes\n",
    "        \n",
    "    def washDishes(self):\n",
    "        if self.dishes.lower() == 'dirty':\n",
    "            return 'Clean'\n",
    "        \n",
    "    def rockClimbingWall(self):\n",
    "        if self.wall.lower() == 'yes':\n",
    "            return 'rock on, climber!'\n",
    "        else: return 'why on earth would you not want a rock climbing wall in your house'\n",
    "        \n",
    "john_house = House('yes', 'dirty')\n",
    "\n",
    "print(vars(john_house))\n",
    "\n"
   ]
  },
  {
   "cell_type": "markdown",
   "metadata": {},
   "source": [
    "## Class Attributes <br>\n",
    "<p>While variables are inside of a class, they are referred to as attributes and not variables. When someone says 'attribute' you know they're speaking about a class. Attributes can be initialized through the init method, or outside of it.</p>"
   ]
  },
  {
   "cell_type": "markdown",
   "metadata": {},
   "source": [
    "##### Initializing Attributes"
   ]
  },
  {
   "cell_type": "code",
   "execution_count": null,
   "metadata": {},
   "outputs": [],
   "source": [
    "# see above\n",
    "\n",
    "class Toy():\n",
    "    kind = 'car' #this is called a 'constant'\n",
    "    \n",
    "    def __init__(self, rooftop, horn, wheels):\n",
    "        self.rooftop = rooftop #These are our 'attributes' \n",
    "        self.horn = horn\n",
    "        self.wheels = wheels\n",
    "        \n",
    "tonka_truck = Toy(1, 1, 4) # 1 rooftop, 1 horn, 4 wheels\n",
    "hotwheels_car = Toy(2, 3, 4) # 2 rooftops, 3 horns, 8 wheels\n",
    "        "
   ]
  },
  {
   "cell_type": "markdown",
   "metadata": {},
   "source": [
    "##### Accessing Class Attributes"
   ]
  },
  {
   "cell_type": "code",
   "execution_count": null,
   "metadata": {
    "scrolled": true
   },
   "outputs": [],
   "source": [
    "# See Above\n",
    "\n",
    "tonka_truck.rooftop\n",
    "hotwheels_car.wheels"
   ]
  },
  {
   "cell_type": "markdown",
   "metadata": {},
   "source": [
    "##### Setting Defaults for Attributes"
   ]
  },
  {
   "cell_type": "code",
   "execution_count": null,
   "metadata": {},
   "outputs": [],
   "source": [
    "class Car():\n",
    "    engine = '4.7' # called a 'constant'\n",
    "    \n",
    "    def __init__(self, wheels):\n",
    "        self.wheels = wheels\n",
    "        self.color = 'Blue' \n",
    "        \n",
    "honda = Car(4) # default attributes are automatically given when creating an instance\n",
    "honda.color"
   ]
  },
  {
   "cell_type": "markdown",
   "metadata": {},
   "source": [
    "##### Changing Class Attributes <br>\n",
    "<p>Keep in mind there are global class attributes and then there are attributes only available to each class instance which won't effect other classes.</p>"
   ]
  },
  {
   "cell_type": "code",
   "execution_count": null,
   "metadata": {},
   "outputs": [],
   "source": [
    "jeep = Car(8)\n",
    "\n",
    "print(f'Before change: {jeep.color}')\n",
    "\n",
    "jeep.color = 'White'\n",
    "\n",
    "print(f'\\nAfter change: {jeep.color}')\n",
    "\n",
    "honda.color"
   ]
  },
  {
   "cell_type": "code",
   "execution_count": null,
   "metadata": {},
   "outputs": [],
   "source": []
  },
  {
   "cell_type": "markdown",
   "metadata": {},
   "source": [
    "##### In-Class Exercise #2 - Add a doors and seats attribute to your 'Car' class then print out two different instances with different doors and seats"
   ]
  },
  {
   "cell_type": "code",
   "execution_count": null,
   "metadata": {},
   "outputs": [],
   "source": [
    "class Car():\n",
    "    engine = '4.7'\n",
    "    \n",
    "    def __init__(self, doors, seats = 4):\n",
    "        self.doors = doors\n",
    "        self.seats = seats\n",
    "        \n",
    "buick = Car(2, 2)\n",
    "nissan = Car(4)\n",
    "\n",
    "print(f'Buick attributes:\\n {vars(buick)}')\n",
    "print(f'Nissan attributes:\\n {vars(nissan)}')\n",
    "    "
   ]
  },
  {
   "cell_type": "markdown",
   "metadata": {},
   "source": [
    "## Class Methods <br>\n",
    "<p>While inside of a class, functions are referred to as 'methods'. If you hear someone mention methods, they're speaking about classes. Methods are essentially functions, but only callable on the instances of a class.</p>"
   ]
  },
  {
   "cell_type": "markdown",
   "metadata": {},
   "source": [
    "##### Creating"
   ]
  },
  {
   "cell_type": "code",
   "execution_count": null,
   "metadata": {},
   "outputs": [],
   "source": [
    "class ShoppingBag:\n",
    "    \"\"\"\n",
    "        The ShoppingBag class will have handles, capacity, and items to place inside.\n",
    "        Attributes for the class:\n",
    "        - handles: expected to be an integer\n",
    "        - capacity: expected to be an integer\n",
    "        - items: expected to be a list\n",
    "    \"\"\"\n",
    "    \n",
    "    def __init__(self, handles, capacity, items):\n",
    "        self.handles = handles\n",
    "        self.capacity = capacity\n",
    "        self.items = items\n",
    "        \n",
    "    # Write a method that shows the items in our ShoppingBag / this is out items list\n",
    "    def showShoppingBag(self):\n",
    "        print(\"You have items in your bag!\")\n",
    "        for item in self.items:\n",
    "            print(item)\n",
    "            \n",
    "    # Show capacity of ShoppingBag - how much room is left\n",
    "    def showCapacity(self):\n",
    "        print(f'Your capacity is: {self.capacity}')\n",
    "        \n",
    "    # Add item(s) to the ShoppingBag\n",
    "    def addToShoppingBag(self):\n",
    "        products = input('What would you like to add?')\n",
    "        self.items.append(products)\n",
    "        \n",
    "    # Change the capacity of the shopping bag\n",
    "    def changeBagCapacity(self, capacity):\n",
    "        self.capacity = capacity # changing global definition here\n",
    "        \n",
    "    # Increase the capacity of the ShoppingBag by a default amount that we set to 10\n",
    "    def increaseCapacity(self, changed_capacity = 10):\n",
    "        if isinstance(self.capacity, str):\n",
    "            print(\"We can't addd that here\")\n",
    "        else:\n",
    "            self.capacity += changed_capacity\n",
    "            \n",
    "\n",
    "        "
   ]
  },
  {
   "cell_type": "markdown",
   "metadata": {},
   "source": [
    "##### Calling"
   ]
  },
  {
   "cell_type": "code",
   "execution_count": null,
   "metadata": {},
   "outputs": [],
   "source": [
    "# See Above\n",
    "#So far, we created the idea of the shopping bag; now we will instantiate and make one\n",
    "\n",
    "wholeFoods_bag = ShoppingBag(2,10,[])\n",
    "\n",
    "#Create a function to run the ShoppingBag methods on our wholeFoods_bag instance\n",
    "def run():\n",
    "    while True:\n",
    "        response = input(\"What do you want to do?  add/show/quit \")\n",
    "        \n",
    "        if response.lower() == 'quit':\n",
    "            wholeFoods_bag.showShoppingBag()\n",
    "            print('Thanks for shopping')\n",
    "            break\n",
    "        elif response.lower() == 'add':\n",
    "            wholeFoods_bag.addToShoppingBag()\n",
    "        elif response.lower() == 'show':\n",
    "            wholeFoods_bag.showShoppingBag()\n",
    "        else: print('Try another command')\n",
    "            \n",
    "run()\n",
    "            \n",
    "            \n"
   ]
  },
  {
   "cell_type": "markdown",
   "metadata": {},
   "source": [
    "##### Modifying an Attribute's Value Through a Method"
   ]
  },
  {
   "cell_type": "code",
   "execution_count": null,
   "metadata": {},
   "outputs": [],
   "source": [
    "# Show the capacity\n",
    "wholeFoods_bag.showCapacity()\n",
    "\n",
    "# Change capacity\n",
    "\n",
    "print(f'Capacity after the change...')\n",
    "wholeFoods_bag.changeBagCapacity(40)\n",
    "wholeFoods_bag.showCapacity()      "
   ]
  },
  {
   "cell_type": "markdown",
   "metadata": {},
   "source": [
    "##### Incrementing an Attribute's Value Through a Method"
   ]
  },
  {
   "cell_type": "code",
   "execution_count": null,
   "metadata": {},
   "outputs": [],
   "source": [
    "wholeFoods_bag.showCapacity()\n",
    "print('After Increase: ')\n",
    "wholeFoods_bag.increaseCapacity()\n",
    "wholeFoods_bag.showCapacity()"
   ]
  },
  {
   "cell_type": "markdown",
   "metadata": {},
   "source": [
    "##### In-Class Exercise #3 - Add a method that takes in three parameters of year, doors and seats and prints out a formatted print statement with make, model, year, seats, and doors"
   ]
  },
  {
   "cell_type": "code",
   "execution_count": null,
   "metadata": {},
   "outputs": [],
   "source": [
    "# Create class with 2 paramters inside of the __init__ which are make and model\n",
    "class Car():\n",
    "    def __init__(self, make, model):\n",
    "        self.make = make\n",
    "        self.model = model\n",
    "\n",
    "# Inside of the Car class create a method that has 4 parameter in total (self,year,door,seats)\n",
    "\n",
    "    def additionalSpecs(self, year, doors, seats):\n",
    "        \"\"\"\n",
    "           Collects the year, num of seats, number of doors, and returns a statement with the \n",
    "        \"\"\"\n",
    "        print(f\"This car is from {year} and is a {self.make.title()} {self.model.title()} and has {doors} doors and {seats} seats\")\n",
    "            \n",
    "# Output: This car is from 2019 and is a Ford Expolorer and has 4 doors and 5 seats \n",
    "    \n",
    "       \n",
    "Car('Jeep', 'Grand Cherokee').additionalSpecs(2022, 4, 5)\n",
    "\n",
    "# OR\n",
    "\n",
    "jeep = Car('Jeep', 'Grand Cherokee')\n",
    "\n",
    "jeep.additionalSpecs(2022, 4, 5)\n",
    "\n"
   ]
  },
  {
   "cell_type": "markdown",
   "metadata": {},
   "source": [
    "## Inheritance <br>\n",
    "<p>You can create a child-parent relationship between two classes by using inheritance. What this allows you to do is have overriding methods, but also inherit traits from the parent class. Think of it as an actual parent and child, the child will inherit the parent's genes, as will the classes in OOP</p>"
   ]
  },
  {
   "cell_type": "markdown",
   "metadata": {},
   "source": [
    "##### Syntax for Inheriting from a Parent Class"
   ]
  },
  {
   "cell_type": "code",
   "execution_count": null,
   "metadata": {},
   "outputs": [],
   "source": [
    "# Create a parent class and call it Animal  #FLASK will use this\n",
    "class Animal():\n",
    "    acceleration = 9.8\n",
    "    \n",
    "    def __init__(self, name, species, legs = 4):\n",
    "        self.name = name\n",
    "        self.species = species\n",
    "        self.legs = legs\n",
    "        \n",
    "    # Generic Parent Method - This is not overriding anything\n",
    "    def makeSound(self):\n",
    "        print('Make some generic sound')\n",
    "        \n",
    "# Now we are making our child class... Dog\n",
    "class Dog(Animal):\n",
    "    speed = 15\n",
    "    \n",
    "    def printInfo(self):\n",
    "        print(f\"The Dog has {self.speed} mph in speed and {self.acceleration} in acceleration\")\n",
    "              \n",
    "# Creation of our Grand-Child Class -- Mutt\n",
    "class Mutt(Dog):\n",
    "    color = 'Tan'\n",
    "              \n",
    "    #Override the ANIMAL class - using the Dog class to overwrite the __init__ from Animal\n",
    "    def __init__(self, name, species, eye_color, legs = 4):\n",
    "        Dog.__init__(self,name,species,legs)\n",
    "        self.eye_color = eye_color\n",
    "              \n",
    "    # Override the makesound method (which is coming from the Animal)\n",
    "    def makeSound(self):\n",
    "        noise = 'Bark'\n",
    "        return noise\n",
    "              \n",
    "lassie = Dog('Lassie', 'Dog')  #inherits __init__ from Animal\n",
    "basic_animal = Animal('Generic Animal Name', 'Generic Animal Species')\n",
    "buster = Mutt('Buster', 'Mutt', 'Brown')\n",
    "              \n",
    "print(buster.makeSound())\n",
    "print(lassie.makeSound())\n",
    "print(buster.acceleration)\n",
    "# print(basic_animal.speed)\n",
    "print(buster.speed)\n",
    "lassie.speed = 10 # Changing speed set in Dog function for lassie\n",
    "lassie.printInfo()"
   ]
  },
  {
   "cell_type": "markdown",
   "metadata": {},
   "source": [
    "##### The \\__init\\__() Method for a Child Class - super()"
   ]
  },
  {
   "cell_type": "code",
   "execution_count": null,
   "metadata": {
    "scrolled": true
   },
   "outputs": [],
   "source": [
    "class Puppy(Dog):\n",
    "    color = 'black and brown'\n",
    "    \n",
    "    #override the ANIMAL class __init__ (via DOG class)\n",
    "    def __init__(self, name, species, eye_color, legs =4):\n",
    "        super().__init__(name,species,legs)                             #This is the whole point - above used Dog.init,but here use super to go to the top level class\n",
    "        self.eye_color = eye_color\n",
    "    \n",
    "    # Override the makeSound method\n",
    "    def makeSound(self):\n",
    "        noise = 'Bark'\n",
    "        return noise\n",
    "    \n",
    "lassie = Dog('Lassie', 'Dog')  #inherits __init__ from Animal\n",
    "basic_animal = Animal('Generic Animal Name', 'Generic Animal Species')\n",
    "buster = Mutt('Buster', 'Mutt', 'Brown')\n",
    "              \n",
    "print(buster.makeSound())\n",
    "print(lassie.makeSound())\n",
    "print(buster.acceleration)\n",
    "# print(basic_animal.speed)\n",
    "print(buster.speed)\n",
    "lassie.speed = 10 # Changing speed set in Dog function for lassie\n",
    "lassie.printInfo()"
   ]
  },
  {
   "cell_type": "markdown",
   "metadata": {},
   "source": [
    "##### Defining Attributes and Methods for the Child Class"
   ]
  },
  {
   "cell_type": "code",
   "execution_count": null,
   "metadata": {},
   "outputs": [],
   "source": [
    "# See Above"
   ]
  },
  {
   "cell_type": "markdown",
   "metadata": {},
   "source": [
    "##### Method Overriding"
   ]
  },
  {
   "cell_type": "code",
   "execution_count": null,
   "metadata": {},
   "outputs": [],
   "source": [
    "# See Above"
   ]
  },
  {
   "cell_type": "markdown",
   "metadata": {},
   "source": [
    "## Classes as Attributes <br>\n",
    "<p>Classes can also be used as attributes within another class. This is useful in situations where you need to keep variables locally stored, instead of globally stored.</p>"
   ]
  },
  {
   "cell_type": "code",
   "execution_count": null,
   "metadata": {},
   "outputs": [],
   "source": [
    "class Battery():\n",
    "    volts = 7.8\n",
    "    \n",
    "    def __init__(self, cells):\n",
    "        self.cells = cells\n",
    "        \n",
    "class Car():\n",
    "    def __init__(self, year, make, model, battery):\n",
    "        self.year = year\n",
    "        self.make = make\n",
    "        self.model = model\n",
    "        self.battery = battery\n",
    "        \n",
    "    def printInfo(self):\n",
    "        return f'{self.year} {self.make} {self.model} {self.battery.cells}'\n",
    "        \n",
    "my_battery = Battery(20)\n",
    "\n",
    "tesla = Car(2019, 'Tesla', 'Model X', my_battery)\n",
    "\n",
    "print(tesla.battery.cells)\n",
    "tesla.printInfo()"
   ]
  },
  {
   "cell_type": "markdown",
   "metadata": {},
   "source": [
    "# Exercises"
   ]
  },
  {
   "cell_type": "markdown",
   "metadata": {},
   "source": [
    "### Exercise 1 - Turn the shopping cart program from yesterday into an object-oriented program\n",
    "\n",
    "The comments in the cell below are there as a guide for thinking about the problem. However, if you feel a different way is best for you and your own thought process, please do what feels best for you by all means."
   ]
  },
  {
   "cell_type": "code",
   "execution_count": null,
   "metadata": {},
   "outputs": [],
   "source": [
    "from IPython.display import clear_output\n",
    "import time\n",
    "\n",
    "def timed(message, displaysecs = 2):\n",
    "        \"\"\"\n",
    "            Displays message for set length of time\n",
    "        \"\"\"\n",
    "        print(message)\n",
    "        time.sleep(displaysecs)\n",
    "        clear_output()\n",
    "\n",
    "class Cart():\n",
    "    def __init__ (self):\n",
    "        self.uname = None\n",
    "        self.contents = []\n",
    "        self.addflag = True\n",
    "        self.remflag = True\n",
    "        \n",
    "    def timed(message, displaysecs = 2):\n",
    "        \"\"\"\n",
    "            Displays message for set length of time\n",
    "        \"\"\"\n",
    "        print(message)\n",
    "        time.sleep(displaysecs)\n",
    "        clear_output()\n",
    "        \n",
    "    def entryError(self):\n",
    "        timed(\"There was an entry error.  Please try again.\", 1)\n",
    "        clear_output()\n",
    "        \n",
    "    def quitProgram(self):\n",
    "        timed(f'Thanks {self.uname}, here is a summary of your cart\\'s contents before you go!:')\n",
    "        timed(self.contents)\n",
    "        timed(f'Thanks {self.uname}, and have a nice day!')\n",
    "        exit()\n",
    "        \n",
    "    def checkSignIn(self):\n",
    "        \"\"\"\n",
    "        Takes user through the sign in process\n",
    "        \"\"\"\n",
    "        while True:\n",
    "            self.uname = input(\"What is your username? Please be a minimum of 8 characters: \")\n",
    "            clear_output()\n",
    "            if self.uname.lower() == 'quit':\n",
    "                self.quitProgram()\n",
    "            elif len(self.uname) >= 8:\n",
    "                self.uname = self.uname.strip().lower()\n",
    "                timed(f\"Welcome {self.uname}.  Shop On!\")\n",
    "                break\n",
    "            else:\n",
    "                self.entryError()\n",
    "        \n",
    "    def showCart(self):\n",
    "        clear_output()\n",
    "        if self.contents == []:\n",
    "            timed(\"Your cart is currently empty.\")\n",
    "        else:\n",
    "            print(f\"The contents of your cart are:\\n\")\n",
    "            for item in self.contents:\n",
    "                print(item.capitalize())\n",
    "        \n",
    "              \n",
    "    def addContents(self):\n",
    "        clear_output()\n",
    "        self.addflag = True\n",
    "        timed(\"Shop On!\")\n",
    "        while self.addflag:\n",
    "            clear_output()\n",
    "            item = input(\"What would you like to add?: \")\n",
    "            item = item.lower().strip()\n",
    "            self.contents.append(item)\n",
    "            timed(\"Your cart has been updated.\")\n",
    "            clear_output()\n",
    "            while True:\n",
    "                repeat = input(f'{self.uname}, would you like to repeat with another item?: (Y / N)')\n",
    "                if repeat.lower().strip() == 'n':\n",
    "                    self.addflag = False\n",
    "                    break\n",
    "                elif repeat.lower().strip() == 'y':\n",
    "                    break\n",
    "                else:\n",
    "                    self.entryError()\n",
    "              \n",
    "    def removeContents(self):\n",
    "        clear_output()\n",
    "        self.remflag = True\n",
    "        timed(\"Shop On!\")\n",
    "        while self.remflag:\n",
    "            clear_output()\n",
    "            self.showCart()\n",
    "            item = input(\"What would you like to remove?: ('Quit' to return to the main menu)\")\n",
    "            item = item.lower().strip()\n",
    "            if item == 'quit':\n",
    "                self.remflag = False\n",
    "                break   \n",
    "            elif item in self.contents:\n",
    "                self.contents.remove(item)\n",
    "                clear_output()\n",
    "                timed(\"Your cart has been updated.\")\n",
    "                while True:\n",
    "                    clear_output()\n",
    "                    repeat = input(f'{self.uname}, would you like to repeat with another item?: (Y / N)')\n",
    "                    if repeat.lower().strip() == 'n':\n",
    "                        clear_output()\n",
    "                        self.remflag = False\n",
    "                        break\n",
    "                    elif repeat.lower().strip() == 'y':\n",
    "                        break\n",
    "                    else:\n",
    "                        self.entryError()\n",
    "            elif item not in self.contents:\n",
    "                clear_output()\n",
    "                timed(\"That item is not in your cart.\")\n",
    "                self.showCart()\n",
    "\n",
    "def main(): \n",
    "    cart = Cart()\n",
    "    cart.checkSignIn()\n",
    "    \n",
    "    while True:\n",
    "        clear_output()\n",
    "        choice = input(f\"What would you like to do {cart.uname}?:\\n'Show' (your contents)\\n'Add' (to your cart)\\n'Remove' (from your cart)\\n'Quit' to quit?:\\n \")\n",
    "        choice = choice.strip().lower()\n",
    "        \n",
    "        if choice == 'quit':\n",
    "            clear_output()\n",
    "            cart.quitProgram()\n",
    "            exit()\n",
    "        elif choice == 'show':\n",
    "            cart.showCart()\n",
    "            input(\"Press enter to continue\")\n",
    "        elif choice == 'add':\n",
    "            cart.addContents()\n",
    "        elif choice == 'remove':\n",
    "            cart.removeContents()\n",
    "        else:\n",
    "            cart.entryError()\n",
    "            \n",
    "\n",
    "if __name__ == \"__main__\":\n",
    "    main()\n",
    "                "
   ]
  },
  {
   "cell_type": "markdown",
   "metadata": {},
   "source": [
    "### Exercise 2 - Write a Python class which has two methods get_String and print_String. get_String accept a string from the user and print_String print the string in upper case"
   ]
  },
  {
   "cell_type": "code",
   "execution_count": 1,
   "metadata": {},
   "outputs": [
    {
     "name": "stdout",
     "output_type": "stream",
     "text": [
      "Here is your sentence..........in UPERCASE!!!!!!:\n",
      "\n",
      "DIANE IS THE BEST\n"
     ]
    }
   ],
   "source": [
    "from IPython.display import clear_output\n",
    "\n",
    "class capInput():\n",
    "    def __init__ (self, received_input=None, cap_input=None):\n",
    "        self.received_input = received_input \n",
    "        self.cap_input = cap_input\n",
    "\n",
    "    def collectString(self):\n",
    "        self.received_input = input(\"Please enter a sentence of your liking:\")\n",
    "\n",
    "    def modThenPrintString(self):\n",
    "        self.cap_input = self.received_input.upper()\n",
    "        print(\"Here is your sentence..........in UPERCASE!!!!!!:\\n\")\n",
    "        print(self.cap_input)\n",
    "\n",
    "string = capInput()\n",
    "\n",
    "string.collectString()\n",
    "clear_output()\n",
    "string.modThenPrintString()\n",
    "\n"
   ]
  }
 ],
 "metadata": {
  "kernelspec": {
   "display_name": "Python 3 (ipykernel)",
   "language": "python",
   "name": "python3"
  },
  "language_info": {
   "codemirror_mode": {
    "name": "ipython",
    "version": 3
   },
   "file_extension": ".py",
   "mimetype": "text/x-python",
   "name": "python",
   "nbconvert_exporter": "python",
   "pygments_lexer": "ipython3",
   "version": "3.11.4"
  }
 },
 "nbformat": 4,
 "nbformat_minor": 2
}
